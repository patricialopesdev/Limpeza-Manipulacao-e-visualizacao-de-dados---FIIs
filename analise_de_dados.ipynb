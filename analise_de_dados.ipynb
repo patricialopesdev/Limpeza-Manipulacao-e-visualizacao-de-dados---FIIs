{
 "cells": [
  {
   "cell_type": "markdown",
   "id": "fe528937",
   "metadata": {},
   "source": [
    "Notebook de Limpeza, Manipulação e Visualização de dados - FIIs 2025\n",
    "\n",
    "Este notebook realiza a leitura, limpeza e análise exploratória de uma base de dados pública de **Fundos de Investimento Imobiliário (FIIs)** obtida a partir de relatórios da CVM/B3.\n",
    "O objetivo é preparar e visualizar informações relevantes para análise de conformidade e auditoria."
   ]
  },
  {
   "cell_type": "code",
   "execution_count": null,
   "id": "e8d9d7da",
   "metadata": {},
   "outputs": [],
   "source": [
    "# Importando bibliotecas necessárias para analise de dados\n",
    "import pandas as pd\n",
    "import numpy as np\n",
    "import matplotlib.pyplot as plt\n",
    "import seaborn as sns\n",
    "from datetime import date\n",
    "\n",
    "sns.set(style=\"whitegrid\", palette=\"muted\", font_scale=1.1)\n"
   ]
  },
  {
   "cell_type": "markdown",
   "id": "65f0bc63",
   "metadata": {},
   "source": [
    "1 - Leitura dos dados."
   ]
  },
  {
   "cell_type": "code",
   "execution_count": null,
   "id": "40eed420",
   "metadata": {},
   "outputs": [],
   "source": [
    "file_path = \"dfin_fii_2025.csv\"\n",
    "df = pd.read_csv(file_path, sep=';', encoding='latin1')\n",
    "\n",
    "\n",
    "# Exibir as primeiras linhas do DataFrame\n",
    "print(\"Dimensões do DataFrame:\", df.shape)\n",
    "print(\"Colunas:\", df.columns.tolist())\n",
    "print(\"\\nPrimeiras linhas:\")\n",
    "print(df.head())"
   ]
  },
  {
   "cell_type": "markdown",
   "id": "899cae06",
   "metadata": {},
   "source": [
    "2 - Padronização de Nomes de Colunas"
   ]
  },
  {
   "cell_type": "code",
   "execution_count": null,
   "id": "056bb1f3",
   "metadata": {},
   "outputs": [],
   "source": [
    "df.columns =(\n",
    "    df.columns.str.strip()\n",
    "    .str.lower()\n",
    "    .str.replace(' ', '_', regex=True)\n",
    ")\n",
    "\n",
    "print(\"\\nColunas padronizadas:\", df.columns.tolist())"
   ]
  },
  {
   "cell_type": "markdown",
   "id": "4315fa95",
   "metadata": {},
   "source": [
    "3 - Conversão de Datas e Tipos"
   ]
  },
  {
   "cell_type": "code",
   "execution_count": 21,
   "id": "45952b71",
   "metadata": {},
   "outputs": [],
   "source": [
    "for col in [\"data_referencia\",\"data_entrega\"]:\n",
    "    df[col]=pd.to_datetime(df[col],errors='coerce')"
   ]
  },
  {
   "cell_type": "markdown",
   "id": "f80fca9f",
   "metadata": {},
   "source": [
    "4 - Tratamento de Dados Faltantes\n"
   ]
  },
  {
   "cell_type": "code",
   "execution_count": null,
   "id": "71819995",
   "metadata": {},
   "outputs": [],
   "source": [
    "print(\"\\nValores nulos por coluna antes da limpeza:\")\n",
    "print(df.isnull().sum())\n",
    "\n",
    "# Preencher campos textuais vazios com “Não Informado”\n",
    "for col in df.select_dtypes(include=[\"float64\", \"int64\"]).columns:\n",
    "    df[col] = df[col].fillna(df[col].median())\n",
    "\n",
    "for col in df.select_dtypes(include=[\"object\"]).columns:\n",
    "    df[col] = df[col].fillna(\"Não Informado\")\n",
    "\n"
   ]
  },
  {
   "cell_type": "markdown",
   "id": "08e8f927",
   "metadata": {},
   "source": [
    "5 - Remoção de Duplicados"
   ]
  },
  {
   "cell_type": "code",
   "execution_count": null,
   "id": "c342ed45",
   "metadata": {},
   "outputs": [],
   "source": [
    "antes = df.shape[0]\n",
    "df.drop_duplicates(inplace=True)\n",
    "depois = df.shape[0]\n",
    "print(f\"\\n Registros duplicados removidos: {antes - depois}\")"
   ]
  },
  {
   "cell_type": "markdown",
   "id": "1637d71b",
   "metadata": {},
   "source": [
    "6 - Estatísticas e Estrutura"
   ]
  },
  {
   "cell_type": "code",
   "execution_count": null,
   "id": "d18391ab",
   "metadata": {},
   "outputs": [],
   "source": [
    "print(\"\\nResumo do dataset:\")\n",
    "print(df.info())\n"
   ]
  },
  {
   "cell_type": "markdown",
   "id": "b6103a26",
   "metadata": {},
   "source": [
    "7 - Análises Exploratórias"
   ]
  },
  {
   "cell_type": "code",
   "execution_count": null,
   "id": "99d21c08",
   "metadata": {},
   "outputs": [],
   "source": [
    "# 7.1 Contagem por tipo de fundo\n",
    "plt.figure(figsize=(10,5))\n",
    "df[\"tipo_fundo_classe\"].value_counts().plot(kind=\"bar\", color=\"skyblue\")\n",
    "plt.title(\"Distribuição por Tipo de Fundo\")\n",
    "plt.xlabel(\"Tipo de Fundo\")\n",
    "plt.ylabel(\"Quantidade\")\n",
    "plt.show()\n",
    "\n",
    "# 7.2 Quantidade de fundos por data de entrega\n",
    "plt.figure(figsize=(12,6))\n",
    "df[\"data_entrega\"].value_counts().sort_index().plot(kind=\"bar\")\n",
    "plt.title(\"Quantidade de Fundos por Data de Entrega\")\n",
    "plt.xlabel(\"Data de Entrega\")\n",
    "plt.ylabel(\"Número de Fundos\")\n",
    "plt.xticks(rotation=45)\n",
    "plt.show()\n",
    "\n",
    "# 7.3 Frequência de parecer do auditor\n",
    "if \"parecer_auditor\" in df.columns:\n",
    "    plt.figure(figsize=(8,5))\n",
    "    df[\"parecer_auditor\"].value_counts().plot(kind=\"pie\", autopct=\"%1.1f%%\", colors=[\"#66b3ff\",\"#99ff99\",\"#ffcc99\"])\n",
    "    plt.title(\"Distribuição do Parecer do Auditor\")\n",
    "    plt.ylabel(\"\")\n",
    "    plt.show()\n"
   ]
  },
  {
   "cell_type": "markdown",
   "id": "7b22073f",
   "metadata": {},
   "source": [
    "8 - Insights e Observações"
   ]
  },
  {
   "cell_type": "code",
   "execution_count": null,
   "id": "93f2e9cc",
   "metadata": {},
   "outputs": [],
   "source": [
    "print(\"\\n Insights iniciais:\")\n",
    "print(\"- A base contém informações de diferentes classes de fundos imobiliários (FIIs).\")\n",
    "print(\"- As datas de referência e entrega ajudam a entender a atualização dos relatórios.\")\n",
    "print(\"- A presença ou ausência de parecer de auditor indica transparência e conformidade regulatória.\")\n",
    "print(\"- Os links de download permitem acessar os relatórios completos diretamente da CVM/B3.\")"
   ]
  },
  {
   "cell_type": "markdown",
   "id": "697cb33b",
   "metadata": {},
   "source": [
    "9 - Exportação do Dataset Limpo"
   ]
  },
  {
   "cell_type": "code",
   "execution_count": null,
   "id": "56c26a41",
   "metadata": {},
   "outputs": [],
   "source": [
    "output_path = \"dfin_fii_2025_limpo.csv\"\n",
    "df.to_csv(output_path, index=False, encoding=\"utf-8-sig\")\n",
    "print(f\"\\n Arquivo limpo exportado com sucesso para: {output_path}\")"
   ]
  },
  {
   "cell_type": "markdown",
   "id": "9449b05d",
   "metadata": {},
   "source": [
    "10 - Identificação e Data"
   ]
  },
  {
   "cell_type": "code",
   "execution_count": 34,
   "id": "69eac617",
   "metadata": {},
   "outputs": [
    {
     "name": "stdout",
     "output_type": "stream",
     "text": [
      "\n",
      "Análise concluída em 2025-10-04 por Patrícia Lopes da Silva.\n"
     ]
    }
   ],
   "source": [
    "print(f\"\\nAnálise concluída em {date.today()} por Patrícia Lopes da Silva.\")"
   ]
  }
 ],
 "metadata": {
  "kernelspec": {
   "display_name": "Python 3",
   "language": "python",
   "name": "python3"
  },
  "language_info": {
   "codemirror_mode": {
    "name": "ipython",
    "version": 3
   },
   "file_extension": ".py",
   "mimetype": "text/x-python",
   "name": "python",
   "nbconvert_exporter": "python",
   "pygments_lexer": "ipython3",
   "version": "3.13.5"
  }
 },
 "nbformat": 4,
 "nbformat_minor": 5
}
